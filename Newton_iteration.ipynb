{
 "cells": [
  {
   "cell_type": "code",
   "execution_count": 13,
   "metadata": {
    "collapsed": true
   },
   "outputs": [],
   "source": [
    "import math\n",
    "\n",
    "# Newton iteration for quadratic equation: ax2 + bx + c\n",
    "def newton(a, b, c, initial_x, tolerance):\n",
    "    converged = False  \n",
    "    x = initial_x\n",
    "    x = float(x)\n",
    "    a = float(a)\n",
    "    b = float(b)\n",
    " \n",
    "    while not converged:  \n",
    "        R = a*x*x + b*x + c\n",
    "        derivative = 2*a*x + b\n",
    "        delta_change = (-R) / derivative\n",
    "        x= x + delta_change\n",
    "        if math.fabs(delta_change) < tolerance:\n",
    "            converged = True\n",
    " \n",
    "    return x\n",
    "        "
   ]
  },
  {
   "cell_type": "code",
   "execution_count": 22,
   "metadata": {
    "collapsed": false
   },
   "outputs": [
    {
     "data": {
      "text/plain": [
       "7.0"
      ]
     },
     "execution_count": 22,
     "metadata": {},
     "output_type": "execute_result"
    }
   ],
   "source": [
    "newton(1, -2, -35, 2, 10**-10)"
   ]
  },
  {
   "cell_type": "code",
   "execution_count": null,
   "metadata": {
    "collapsed": true
   },
   "outputs": [],
   "source": []
  }
 ],
 "metadata": {
  "kernelspec": {
   "display_name": "Python 2",
   "language": "python",
   "name": "python2"
  },
  "language_info": {
   "codemirror_mode": {
    "name": "ipython",
    "version": 2
   },
   "file_extension": ".py",
   "mimetype": "text/x-python",
   "name": "python",
   "nbconvert_exporter": "python",
   "pygments_lexer": "ipython2",
   "version": "2.7.10"
  }
 },
 "nbformat": 4,
 "nbformat_minor": 0
}
